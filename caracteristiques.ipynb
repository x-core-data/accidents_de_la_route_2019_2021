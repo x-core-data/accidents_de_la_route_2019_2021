{
 "cells": [
  {
   "cell_type": "markdown",
   "id": "009213c6-db32-46e4-b54d-4406fd51aedf",
   "metadata": {},
   "source": [
    "### Chargement des librarires :"
   ]
  },
  {
   "cell_type": "code",
   "execution_count": 17,
   "id": "e3a4cff1-6881-4fb1-b1c9-cc0144b7b1b0",
   "metadata": {},
   "outputs": [],
   "source": [
    "import pandas as pd\n",
    "import seaborn as sns\n",
    "import matplotlib as plt\n",
    "import numpy as np"
   ]
  },
  {
   "cell_type": "markdown",
   "id": "012521c3-b64d-413e-95ba-69cf66792363",
   "metadata": {},
   "source": [
    "### Chargement des bases de données liées aux caracteristiques pour les années 2017 à 2021 :\n"
   ]
  },
  {
   "cell_type": "code",
   "execution_count": 18,
   "id": "9771acfe-6b70-43fc-90c3-5dcac1307a0f",
   "metadata": {},
   "outputs": [],
   "source": [
    "df_caracteristiques_2021 = pd.read_csv(\"data/caracteristiques-2021.csv\", sep=';')\n",
    "df_caracteristiques_2020 = pd.read_csv(\"data/caracteristiques-2020.csv\", sep=';')\n",
    "df_caracteristiques_2019 = pd.read_csv(\"data/caracteristiques-2019.csv\", sep=';')"
   ]
  },
  {
   "cell_type": "markdown",
   "id": "bcad9cd9-d79e-4027-8b80-ea92b141c77c",
   "metadata": {},
   "source": [
    "### Fusion et nettoyage des dataframes :"
   ]
  },
  {
   "cell_type": "code",
   "execution_count": 19,
   "id": "f1fbc5df-c008-4579-a53a-5d697364c730",
   "metadata": {},
   "outputs": [],
   "source": [
    "df = [df_caracteristiques_2019, df_caracteristiques_2020, df_caracteristiques_2021]\n",
    "caracteristiques_2017_2021 = pd.concat(df)"
   ]
  },
  {
   "cell_type": "code",
   "execution_count": 20,
   "id": "410b8ea7-0228-4f25-9da8-2926eb490d07",
   "metadata": {},
   "outputs": [],
   "source": [
    "caracteristiques_2019_2021 = caracteristiques_2017_2021.rename(columns={'jour':'day', 'mois':'month', 'an':'year'})"
   ]
  },
  {
   "cell_type": "code",
   "execution_count": 22,
   "id": "f9e654c4-b7e2-467f-aac8-dfb91ba816c0",
   "metadata": {},
   "outputs": [],
   "source": [
    "caracteristiques_2019_2021['year'] = caracteristiques_2019_2021['year'].replace(17, 2017)\n",
    "caracteristiques_2019_2021['year'] = caracteristiques_2019_2021['year'].replace(18, 2018)"
   ]
  },
  {
   "cell_type": "code",
   "execution_count": 23,
   "id": "a05ab364-c8fb-4561-b57a-1d76f94b6f4a",
   "metadata": {},
   "outputs": [
    {
     "data": {
      "text/html": [
       "<div>\n",
       "<style scoped>\n",
       "    .dataframe tbody tr th:only-of-type {\n",
       "        vertical-align: middle;\n",
       "    }\n",
       "\n",
       "    .dataframe tbody tr th {\n",
       "        vertical-align: top;\n",
       "    }\n",
       "\n",
       "    .dataframe thead th {\n",
       "        text-align: right;\n",
       "    }\n",
       "</style>\n",
       "<table border=\"1\" class=\"dataframe\">\n",
       "  <thead>\n",
       "    <tr style=\"text-align: right;\">\n",
       "      <th></th>\n",
       "      <th>Num_Acc</th>\n",
       "      <th>day</th>\n",
       "      <th>month</th>\n",
       "      <th>year</th>\n",
       "      <th>hrmn</th>\n",
       "      <th>lum</th>\n",
       "      <th>dep</th>\n",
       "      <th>com</th>\n",
       "      <th>agg</th>\n",
       "      <th>int</th>\n",
       "      <th>atm</th>\n",
       "      <th>col</th>\n",
       "      <th>adr</th>\n",
       "      <th>lat</th>\n",
       "      <th>long</th>\n",
       "    </tr>\n",
       "  </thead>\n",
       "  <tbody>\n",
       "    <tr>\n",
       "      <th>0</th>\n",
       "      <td>201900000001</td>\n",
       "      <td>30</td>\n",
       "      <td>11</td>\n",
       "      <td>2019</td>\n",
       "      <td>01:30</td>\n",
       "      <td>4</td>\n",
       "      <td>93</td>\n",
       "      <td>93053</td>\n",
       "      <td>1</td>\n",
       "      <td>1</td>\n",
       "      <td>1</td>\n",
       "      <td>2</td>\n",
       "      <td>AUTOROUTE A3</td>\n",
       "      <td>48,8962100</td>\n",
       "      <td>2,4701200</td>\n",
       "    </tr>\n",
       "    <tr>\n",
       "      <th>1</th>\n",
       "      <td>201900000002</td>\n",
       "      <td>30</td>\n",
       "      <td>11</td>\n",
       "      <td>2019</td>\n",
       "      <td>02:50</td>\n",
       "      <td>3</td>\n",
       "      <td>93</td>\n",
       "      <td>93066</td>\n",
       "      <td>1</td>\n",
       "      <td>1</td>\n",
       "      <td>1</td>\n",
       "      <td>6</td>\n",
       "      <td>AUTOROUTE A1</td>\n",
       "      <td>48,9307000</td>\n",
       "      <td>2,3688000</td>\n",
       "    </tr>\n",
       "    <tr>\n",
       "      <th>2</th>\n",
       "      <td>201900000003</td>\n",
       "      <td>28</td>\n",
       "      <td>11</td>\n",
       "      <td>2019</td>\n",
       "      <td>15:15</td>\n",
       "      <td>1</td>\n",
       "      <td>92</td>\n",
       "      <td>92036</td>\n",
       "      <td>1</td>\n",
       "      <td>1</td>\n",
       "      <td>1</td>\n",
       "      <td>4</td>\n",
       "      <td>AUTOROUTE A86</td>\n",
       "      <td>48,9358718</td>\n",
       "      <td>2,3191744</td>\n",
       "    </tr>\n",
       "    <tr>\n",
       "      <th>3</th>\n",
       "      <td>201900000004</td>\n",
       "      <td>30</td>\n",
       "      <td>11</td>\n",
       "      <td>2019</td>\n",
       "      <td>20:20</td>\n",
       "      <td>5</td>\n",
       "      <td>94</td>\n",
       "      <td>94069</td>\n",
       "      <td>1</td>\n",
       "      <td>1</td>\n",
       "      <td>1</td>\n",
       "      <td>4</td>\n",
       "      <td>A4</td>\n",
       "      <td>48,8173295</td>\n",
       "      <td>2,4281502</td>\n",
       "    </tr>\n",
       "    <tr>\n",
       "      <th>4</th>\n",
       "      <td>201900000005</td>\n",
       "      <td>30</td>\n",
       "      <td>11</td>\n",
       "      <td>2019</td>\n",
       "      <td>04:00</td>\n",
       "      <td>3</td>\n",
       "      <td>94</td>\n",
       "      <td>94028</td>\n",
       "      <td>1</td>\n",
       "      <td>1</td>\n",
       "      <td>1</td>\n",
       "      <td>2</td>\n",
       "      <td>A86 INT</td>\n",
       "      <td>48,7763620</td>\n",
       "      <td>2,4332540</td>\n",
       "    </tr>\n",
       "    <tr>\n",
       "      <th>...</th>\n",
       "      <td>...</td>\n",
       "      <td>...</td>\n",
       "      <td>...</td>\n",
       "      <td>...</td>\n",
       "      <td>...</td>\n",
       "      <td>...</td>\n",
       "      <td>...</td>\n",
       "      <td>...</td>\n",
       "      <td>...</td>\n",
       "      <td>...</td>\n",
       "      <td>...</td>\n",
       "      <td>...</td>\n",
       "      <td>...</td>\n",
       "      <td>...</td>\n",
       "      <td>...</td>\n",
       "    </tr>\n",
       "    <tr>\n",
       "      <th>56513</th>\n",
       "      <td>202100056514</td>\n",
       "      <td>1</td>\n",
       "      <td>1</td>\n",
       "      <td>2021</td>\n",
       "      <td>06:10</td>\n",
       "      <td>3</td>\n",
       "      <td>33</td>\n",
       "      <td>33021</td>\n",
       "      <td>1</td>\n",
       "      <td>1</td>\n",
       "      <td>5</td>\n",
       "      <td>6</td>\n",
       "      <td>NaN</td>\n",
       "      <td>44,5266190000</td>\n",
       "      <td>-0,1955440000</td>\n",
       "    </tr>\n",
       "    <tr>\n",
       "      <th>56514</th>\n",
       "      <td>202100056515</td>\n",
       "      <td>1</td>\n",
       "      <td>1</td>\n",
       "      <td>2021</td>\n",
       "      <td>10:20</td>\n",
       "      <td>1</td>\n",
       "      <td>38</td>\n",
       "      <td>38405</td>\n",
       "      <td>1</td>\n",
       "      <td>1</td>\n",
       "      <td>2</td>\n",
       "      <td>6</td>\n",
       "      <td>D520</td>\n",
       "      <td>45,3802910000</td>\n",
       "      <td>5,7049140000</td>\n",
       "    </tr>\n",
       "    <tr>\n",
       "      <th>56515</th>\n",
       "      <td>202100056516</td>\n",
       "      <td>1</td>\n",
       "      <td>1</td>\n",
       "      <td>2021</td>\n",
       "      <td>18:00</td>\n",
       "      <td>3</td>\n",
       "      <td>26</td>\n",
       "      <td>26064</td>\n",
       "      <td>1</td>\n",
       "      <td>1</td>\n",
       "      <td>2</td>\n",
       "      <td>1</td>\n",
       "      <td>Route départementale 538</td>\n",
       "      <td>44,9112100000</td>\n",
       "      <td>5,0196360000</td>\n",
       "    </tr>\n",
       "    <tr>\n",
       "      <th>56516</th>\n",
       "      <td>202100056517</td>\n",
       "      <td>1</td>\n",
       "      <td>1</td>\n",
       "      <td>2021</td>\n",
       "      <td>10:55</td>\n",
       "      <td>1</td>\n",
       "      <td>33</td>\n",
       "      <td>33003</td>\n",
       "      <td>1</td>\n",
       "      <td>2</td>\n",
       "      <td>1</td>\n",
       "      <td>6</td>\n",
       "      <td>Voie rapide Bassens Ambes</td>\n",
       "      <td>44,9542747363</td>\n",
       "      <td>-0,5179211363</td>\n",
       "    </tr>\n",
       "    <tr>\n",
       "      <th>56517</th>\n",
       "      <td>202100056518</td>\n",
       "      <td>2</td>\n",
       "      <td>1</td>\n",
       "      <td>2021</td>\n",
       "      <td>18:00</td>\n",
       "      <td>3</td>\n",
       "      <td>78</td>\n",
       "      <td>78423</td>\n",
       "      <td>1</td>\n",
       "      <td>1</td>\n",
       "      <td>3</td>\n",
       "      <td>1</td>\n",
       "      <td>VOLTA (AVENUE)</td>\n",
       "      <td>48,7966700000</td>\n",
       "      <td>2,0505000000</td>\n",
       "    </tr>\n",
       "  </tbody>\n",
       "</table>\n",
       "<p>163102 rows × 15 columns</p>\n",
       "</div>"
      ],
      "text/plain": [
       "            Num_Acc  day  month  year   hrmn  lum dep    com  agg  int  atm  \\\n",
       "0      201900000001   30     11  2019  01:30    4  93  93053    1    1    1   \n",
       "1      201900000002   30     11  2019  02:50    3  93  93066    1    1    1   \n",
       "2      201900000003   28     11  2019  15:15    1  92  92036    1    1    1   \n",
       "3      201900000004   30     11  2019  20:20    5  94  94069    1    1    1   \n",
       "4      201900000005   30     11  2019  04:00    3  94  94028    1    1    1   \n",
       "...             ...  ...    ...   ...    ...  ...  ..    ...  ...  ...  ...   \n",
       "56513  202100056514    1      1  2021  06:10    3  33  33021    1    1    5   \n",
       "56514  202100056515    1      1  2021  10:20    1  38  38405    1    1    2   \n",
       "56515  202100056516    1      1  2021  18:00    3  26  26064    1    1    2   \n",
       "56516  202100056517    1      1  2021  10:55    1  33  33003    1    2    1   \n",
       "56517  202100056518    2      1  2021  18:00    3  78  78423    1    1    3   \n",
       "\n",
       "       col                        adr            lat            long  \n",
       "0        2               AUTOROUTE A3     48,8962100       2,4701200  \n",
       "1        6               AUTOROUTE A1     48,9307000       2,3688000  \n",
       "2        4              AUTOROUTE A86     48,9358718       2,3191744  \n",
       "3        4                         A4     48,8173295       2,4281502  \n",
       "4        2                    A86 INT     48,7763620       2,4332540  \n",
       "...    ...                        ...            ...             ...  \n",
       "56513    6                        NaN  44,5266190000   -0,1955440000  \n",
       "56514    6                       D520  45,3802910000    5,7049140000  \n",
       "56515    1   Route départementale 538  44,9112100000    5,0196360000  \n",
       "56516    6  Voie rapide Bassens Ambes  44,9542747363   -0,5179211363  \n",
       "56517    1             VOLTA (AVENUE)  48,7966700000    2,0505000000  \n",
       "\n",
       "[163102 rows x 15 columns]"
      ]
     },
     "execution_count": 23,
     "metadata": {},
     "output_type": "execute_result"
    }
   ],
   "source": [
    "caracteristiques_2019_2021"
   ]
  },
  {
   "cell_type": "code",
   "execution_count": 24,
   "id": "811534ac-e0ad-427b-a181-436ce1626b31",
   "metadata": {},
   "outputs": [
    {
     "data": {
      "image/png": "[encoded data removed]",
      "text/plain": [
       "<Figure size 432x288 with 2 Axes>"
      ]
     },
     "metadata": {
      "needs_background": "light"
     },
     "output_type": "display_data"
    }
   ],
   "source": [
    "#Visualisation des valeurs manquantes à l'aide d'une carte thermique\n",
    "sns.heatmap(caracteristiques_2019_2021.isna());"
   ]
  },
  {
   "cell_type": "code",
   "execution_count": 26,
   "id": "5b95dd07-583b-4ba0-8d30-397e16243890",
   "metadata": {},
   "outputs": [],
   "source": [
    "#Recodage des -1 (non renseigné) par des NaN\n",
    "caracteristiques_2019_2021 = caracteristiques_2019_2021.replace(-1, np.nan)"
   ]
  },
  {
   "cell_type": "code",
   "execution_count": 27,
   "id": "e4307f65-88a1-4db3-9c47-7e411b8f9a61",
   "metadata": {},
   "outputs": [
    {
     "data": {
      "image/png": "[encoded data removed]",
      "text/plain": [
       "<Figure size 432x288 with 2 Axes>"
      ]
     },
     "metadata": {
      "needs_background": "light"
     },
     "output_type": "display_data"
    }
   ],
   "source": [
    "#Visualisation des valeurs manquantes après nettoyage\n",
    "sns.heatmap(caracteristiques_2019_2021.isna());"
   ]
  },
  {
   "cell_type": "code",
   "execution_count": 28,
   "id": "86a77fb5-3068-425c-a2fc-b269260ed38f",
   "metadata": {},
   "outputs": [],
   "source": [
    "#Recodage des 0 (sans objet) par des NaN\n",
    "caracteristiques_2019_2021 = caracteristiques_2019_2021.replace(0, np.nan)"
   ]
  },
  {
   "cell_type": "code",
   "execution_count": 29,
   "id": "32c16249-9764-4e20-8b4b-4806a0cef4f3",
   "metadata": {},
   "outputs": [
    {
     "data": {
      "image/png": "[encoded data removed]",
      "text/plain": [
       "<Figure size 432x288 with 2 Axes>"
      ]
     },
     "metadata": {
      "needs_background": "light"
     },
     "output_type": "display_data"
    }
   ],
   "source": [
    "#Visualisation des valeurs manquantes après nettoyage\n",
    "sns.heatmap(caracteristiques_2019_2021.isna());"
   ]
  },
  {
   "cell_type": "code",
   "execution_count": 34,
   "id": "38ab1c27-7aa6-441c-a42c-7f6618a4c976",
   "metadata": {},
   "outputs": [],
   "source": [
    "#export du df final\n",
    "caracteristiques_2019_2021.to_csv(\"merged_tables/caracteristiques_2019_2021.csv\", index=False)"
   ]
  },
  {
   "cell_type": "markdown",
   "id": "50d49690-cc63-4d53-a612-3c0878280afc",
   "metadata": {},
   "source": [
    "### Quelques statistiques descriptives..."
   ]
  },
  {
   "cell_type": "code",
   "execution_count": 31,
   "id": "8f8a2272-abb8-4fc7-8c7e-cddc09a45528",
   "metadata": {},
   "outputs": [
    {
     "data": {
      "text/plain": [
       "2019    58840\n",
       "2021    56518\n",
       "2020    47744\n",
       "Name: year, dtype: int64"
      ]
     },
     "execution_count": 31,
     "metadata": {},
     "output_type": "execute_result"
    }
   ],
   "source": [
    "#Nb d'accidents par année :\n",
    "caracteristiques_2019_2021['year'].value_counts()"
   ]
  },
  {
   "cell_type": "code",
   "execution_count": 14,
   "id": "e32a16c4-3af3-4a1c-97a9-8459e28013ff",
   "metadata": {},
   "outputs": [
    {
     "data": {
      "text/plain": [
       "<AxesSubplot:>"
      ]
     },
     "execution_count": 14,
     "metadata": {},
     "output_type": "execute_result"
    },
    {
     "data": {
      "image/png": "[encoded data removed]",
      "text/plain": [
       "<Figure size 432x288 with 1 Axes>"
      ]
     },
     "metadata": {
      "needs_background": "light"
     },
     "output_type": "display_data"
    }
   ],
   "source": [
    "#Accidents ayant eu lieu hors agglomération (1) et en agglomération (2)\n",
    "caracteristiques_2019_2021['agg'].value_counts().plot(kind='bar')"
   ]
  },
  {
   "cell_type": "code",
   "execution_count": 32,
   "id": "6b0ae5f0-8a54-4c0d-b612-f496ee4ce256",
   "metadata": {},
   "outputs": [
    {
     "data": {
      "text/plain": [
       "9     16487\n",
       "7     16129\n",
       "10    15921\n",
       "6     15696\n",
       "12    13786\n",
       "8     13643\n",
       "5     12997\n",
       "1     12731\n",
       "11    12688\n",
       "2     11928\n",
       "3     11431\n",
       "4      9665\n",
       "Name: month, dtype: int64"
      ]
     },
     "execution_count": 32,
     "metadata": {},
     "output_type": "execute_result"
    }
   ],
   "source": [
    "# Les trois mois regroupant le plus d'accidents sur les cinq années sont les suivants : Septembre, Juillet et Octobre\n",
    "caracteristiques_2019_2021['month'].value_counts().sort_values(ascending=False)"
   ]
  },
  {
   "cell_type": "code",
   "execution_count": null,
   "id": "6da7d4a7",
   "metadata": {},
   "outputs": [],
   "source": []
  }
 ],
 "metadata": {
  "kernelspec": {
   "display_name": "Python 3 (ipykernel)",
   "language": "python",
   "name": "python3"
  },
  "language_info": {
   "codemirror_mode": {
    "name": "ipython",
    "version": 3
   },
   "file_extension": ".py",
   "mimetype": "text/x-python",
   "name": "python",
   "nbconvert_exporter": "python",
   "pygments_lexer": "ipython3",
   "version": "3.9.12"
  }
 },
 "nbformat": 4,
 "nbformat_minor": 5
}
